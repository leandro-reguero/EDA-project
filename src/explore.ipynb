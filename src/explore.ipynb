{
    "cells": [
        {
            "cell_type": "markdown",
            "metadata": {},
            "source": [
                "# Explore here"
            ]
        },
        {
            "cell_type": "code",
            "execution_count": 2,
            "metadata": {},
            "outputs": [
                {
                    "name": "stdout",
                    "output_type": "stream",
                    "text": [
                        "     id                                              name  host_id  \\\n",
                        "0  2539                Clean & quiet apt home by the park     2787   \n",
                        "1  2595                             Skylit Midtown Castle     2845   \n",
                        "2  3647               THE VILLAGE OF HARLEM....NEW YORK !     4632   \n",
                        "3  3831                   Cozy Entire Floor of Brownstone     4869   \n",
                        "4  5022  Entire Apt: Spacious Studio/Loft by central park     7192   \n",
                        "\n",
                        "     host_name neighbourhood_group neighbourhood  latitude  longitude  \\\n",
                        "0         John            Brooklyn    Kensington  40.64749  -73.97237   \n",
                        "1     Jennifer           Manhattan       Midtown  40.75362  -73.98377   \n",
                        "2    Elisabeth           Manhattan        Harlem  40.80902  -73.94190   \n",
                        "3  LisaRoxanne            Brooklyn  Clinton Hill  40.68514  -73.95976   \n",
                        "4        Laura           Manhattan   East Harlem  40.79851  -73.94399   \n",
                        "\n",
                        "         room_type  price  minimum_nights  number_of_reviews last_review  \\\n",
                        "0     Private room    149               1                  9  2018-10-19   \n",
                        "1  Entire home/apt    225               1                 45  2019-05-21   \n",
                        "2     Private room    150               3                  0         NaN   \n",
                        "3  Entire home/apt     89               1                270  2019-07-05   \n",
                        "4  Entire home/apt     80              10                  9  2018-11-19   \n",
                        "\n",
                        "   reviews_per_month  calculated_host_listings_count  availability_365  \n",
                        "0               0.21                               6               365  \n",
                        "1               0.38                               2               355  \n",
                        "2                NaN                               1               365  \n",
                        "3               4.64                               1               194  \n",
                        "4               0.10                               1                 0  \n"
                    ]
                }
            ],
            "source": [
                "# Your code here\n",
                "import numpy as np\n",
                "import pandas as pd\n",
                "\n",
                "file = 'https://raw.githubusercontent.com/4GeeksAcademy/data-preprocessing-project-tutorial/main/AB_NYC_2019.csv'\n",
                "df = pd.read_csv(file)\n",
                "print(df.head())\n"
            ]
        },
        {
            "cell_type": "code",
            "execution_count": 6,
            "metadata": {},
            "outputs": [
                {
                    "name": "stdout",
                    "output_type": "stream",
                    "text": [
                        "<class 'pandas.core.frame.DataFrame'>\n",
                        "RangeIndex: 48895 entries, 0 to 48894\n",
                        "Data columns (total 16 columns):\n",
                        " #   Column                          Non-Null Count  Dtype  \n",
                        "---  ------                          --------------  -----  \n",
                        " 0   id                              48895 non-null  int64  \n",
                        " 1   name                            48879 non-null  object \n",
                        " 2   host_id                         48895 non-null  int64  \n",
                        " 3   host_name                       48874 non-null  object \n",
                        " 4   neighbourhood_group             48895 non-null  object \n",
                        " 5   neighbourhood                   48895 non-null  object \n",
                        " 6   latitude                        48895 non-null  float64\n",
                        " 7   longitude                       48895 non-null  float64\n",
                        " 8   room_type                       48895 non-null  object \n",
                        " 9   price                           48895 non-null  int64  \n",
                        " 10  minimum_nights                  48895 non-null  int64  \n",
                        " 11  number_of_reviews               48895 non-null  int64  \n",
                        " 12  last_review                     38843 non-null  object \n",
                        " 13  reviews_per_month               38843 non-null  float64\n",
                        " 14  calculated_host_listings_count  48895 non-null  int64  \n",
                        " 15  availability_365                48895 non-null  int64  \n",
                        "dtypes: float64(3), int64(7), object(6)\n",
                        "memory usage: 6.0+ MB\n",
                        "Does the dataset contain NAs? :  True\n",
                        "Column 'name' contains NaN values\n",
                        "Column 'host_name' contains NaN values\n",
                        "Column 'last_review' contains NaN values\n",
                        "Column 'reviews_per_month' contains NaN values\n"
                    ]
                }
            ],
            "source": [
                "df.shape\n",
                "df.info()\n",
                "\n",
                "contain_na = df.isna().any().any()\n",
                "print(f\"Does the dataset contain NAs? : \", contain_na)\n",
                "for column in df.columns:\n",
                "    if df[column].isna().any():\n",
                "        print(f\"Column '{column}' contains NaN values\")\n"
            ]
        },
        {
            "cell_type": "code",
            "execution_count": 9,
            "metadata": {},
            "outputs": [
                {
                    "name": "stdout",
                    "output_type": "stream",
                    "text": [
                        "(48895, 16)\n",
                        "id                                    0\n",
                        "name                                 16\n",
                        "host_id                               0\n",
                        "host_name                            21\n",
                        "neighbourhood_group                   0\n",
                        "neighbourhood                         0\n",
                        "latitude                              0\n",
                        "longitude                             0\n",
                        "room_type                             0\n",
                        "price                                 0\n",
                        "minimum_nights                        0\n",
                        "number_of_reviews                     0\n",
                        "last_review                       10052\n",
                        "reviews_per_month                 10052\n",
                        "calculated_host_listings_count        0\n",
                        "availability_365                      0\n",
                        "dtype: int64\n",
                        "The columns last_review and reviews_per_month have a significant amount of nulls\n"
                    ]
                }
            ],
            "source": [
                "# checkear que los valores tienen sentido\n",
                "# last_review está en formato object, y no en date-time, so we need to address it\n",
                "print(df.shape)\n",
                "print(df.isnull().sum())\n",
                "print(\"The columns last_review and reviews_per_month have a significant amount of nulls\")\n",
                "print(\"This is probably related to the houses that have 0 reviews\")"
            ]
        },
        {
            "cell_type": "code",
            "execution_count": 27,
            "metadata": {},
            "outputs": [
                {
                    "name": "stdout",
                    "output_type": "stream",
                    "text": [
                        "(10052, 2)\n",
                        "We observe that this filtered dataset contains all the null values previously seen on the compared variables\n",
                        "True\n",
                        "id                                 0\n",
                        "name                              16\n",
                        "host_id                            0\n",
                        "host_name                         21\n",
                        "neighbourhood_group                0\n",
                        "neighbourhood                      0\n",
                        "latitude                           0\n",
                        "longitude                          0\n",
                        "room_type                          0\n",
                        "price                              0\n",
                        "minimum_nights                     0\n",
                        "number_of_reviews                  0\n",
                        "reviews_per_month                  0\n",
                        "calculated_host_listings_count     0\n",
                        "availability_365                   0\n",
                        "dtype: int64\n"
                    ]
                },
                {
                    "name": "stderr",
                    "output_type": "stream",
                    "text": [
                        "C:\\Users\\34616\\AppData\\Local\\Temp\\ipykernel_20452\\7012795.py:13: FutureWarning: A value is trying to be set on a copy of a DataFrame or Series through chained assignment using an inplace method.\n",
                        "The behavior will change in pandas 3.0. This inplace method will never work because the intermediate object on which we are setting values always behaves as a copy.\n",
                        "\n",
                        "For example, when doing 'df[col].method(value, inplace=True)', try using 'df.method({col: value}, inplace=True)' or df[col] = df[col].method(value) instead, to perform the operation inplace on the original object.\n",
                        "\n",
                        "\n",
                        "  df['reviews_per_month'].fillna(0, inplace=True)\n"
                    ]
                }
            ],
            "source": [
                "df_rev = df.loc[df['number_of_reviews'] == 0, ['reviews_per_month','last_review']]\n",
                "\n",
                "# change this from NaN to 0\n",
                "\n",
                "print(df_rev.shape)\n",
                "print(\"We observe that this filtered dataset contains all the null values previously seen on the compared variables\")\n",
                "\n",
                "if df_rev['last_review'].sum() == df_rev['reviews_per_month'].sum():\n",
                "    print(True)\n",
                "\n",
                "# replacing null values with zeros and dropping the last_review column\n",
                "\n",
                "df['reviews_per_month'].fillna(0, inplace=True)\n",
                "df.drop(columns='last_review', axis=1, inplace=True)\n",
                "print(df.isnull().sum())\n"
            ]
        },
        {
            "cell_type": "code",
            "execution_count": 10,
            "metadata": {},
            "outputs": [
                {
                    "data": {
                        "text/plain": [
                            "array(['Private room', 'Entire home/apt', 'Shared room'], dtype=object)"
                        ]
                    },
                    "execution_count": 10,
                    "metadata": {},
                    "output_type": "execute_result"
                }
            ],
            "source": [
                "df['room_type'].unique()\n",
                "# convertir los roomtypes en numberos (1, 2, 3)"
            ]
        },
        {
            "cell_type": "code",
            "execution_count": 28,
            "metadata": {},
            "outputs": [
                {
                    "name": "stdout",
                    "output_type": "stream",
                    "text": [
                        "id                                0\n",
                        "name                              0\n",
                        "host_id                           0\n",
                        "host_name                         0\n",
                        "neighbourhood_group               0\n",
                        "neighbourhood                     0\n",
                        "latitude                          0\n",
                        "longitude                         0\n",
                        "room_type                         0\n",
                        "price                             0\n",
                        "minimum_nights                    0\n",
                        "number_of_reviews                 0\n",
                        "reviews_per_month                 0\n",
                        "calculated_host_listings_count    0\n",
                        "availability_365                  0\n",
                        "dtype: int64\n"
                    ]
                },
                {
                    "name": "stderr",
                    "output_type": "stream",
                    "text": [
                        "C:\\Users\\34616\\AppData\\Local\\Temp\\ipykernel_20452\\2543803855.py:1: FutureWarning: A value is trying to be set on a copy of a DataFrame or Series through chained assignment using an inplace method.\n",
                        "The behavior will change in pandas 3.0. This inplace method will never work because the intermediate object on which we are setting values always behaves as a copy.\n",
                        "\n",
                        "For example, when doing 'df[col].method(value, inplace=True)', try using 'df.method({col: value}, inplace=True)' or df[col] = df[col].method(value) instead, to perform the operation inplace on the original object.\n",
                        "\n",
                        "\n",
                        "  df['name'].fillna('Unknown', inplace=True)\n",
                        "C:\\Users\\34616\\AppData\\Local\\Temp\\ipykernel_20452\\2543803855.py:2: FutureWarning: A value is trying to be set on a copy of a DataFrame or Series through chained assignment using an inplace method.\n",
                        "The behavior will change in pandas 3.0. This inplace method will never work because the intermediate object on which we are setting values always behaves as a copy.\n",
                        "\n",
                        "For example, when doing 'df[col].method(value, inplace=True)', try using 'df.method({col: value}, inplace=True)' or df[col] = df[col].method(value) instead, to perform the operation inplace on the original object.\n",
                        "\n",
                        "\n",
                        "  df['host_name'].fillna('Unknown', inplace=True)\n"
                    ]
                }
            ],
            "source": [
                "# Replacing null values in names for Unknown\n",
                "df['name'].fillna('Unknown', inplace=True)\n",
                "df['host_name'].fillna('Unknown', inplace=True)\n",
                "\n",
                "print(df.isnull().sum())"
            ]
        },
        {
            "cell_type": "code",
            "execution_count": 29,
            "metadata": {},
            "outputs": [
                {
                    "data": {
                        "text/html": [
                            "<div>\n",
                            "<style scoped>\n",
                            "    .dataframe tbody tr th:only-of-type {\n",
                            "        vertical-align: middle;\n",
                            "    }\n",
                            "\n",
                            "    .dataframe tbody tr th {\n",
                            "        vertical-align: top;\n",
                            "    }\n",
                            "\n",
                            "    .dataframe thead th {\n",
                            "        text-align: right;\n",
                            "    }\n",
                            "</style>\n",
                            "<table border=\"1\" class=\"dataframe\">\n",
                            "  <thead>\n",
                            "    <tr style=\"text-align: right;\">\n",
                            "      <th></th>\n",
                            "      <th>id</th>\n",
                            "      <th>host_id</th>\n",
                            "      <th>latitude</th>\n",
                            "      <th>longitude</th>\n",
                            "      <th>price</th>\n",
                            "      <th>minimum_nights</th>\n",
                            "      <th>number_of_reviews</th>\n",
                            "      <th>reviews_per_month</th>\n",
                            "      <th>calculated_host_listings_count</th>\n",
                            "      <th>availability_365</th>\n",
                            "    </tr>\n",
                            "  </thead>\n",
                            "  <tbody>\n",
                            "    <tr>\n",
                            "      <th>count</th>\n",
                            "      <td>4.889500e+04</td>\n",
                            "      <td>4.889500e+04</td>\n",
                            "      <td>48895.000000</td>\n",
                            "      <td>48895.000000</td>\n",
                            "      <td>48895.000000</td>\n",
                            "      <td>48895.000000</td>\n",
                            "      <td>48895.000000</td>\n",
                            "      <td>48895.000000</td>\n",
                            "      <td>48895.000000</td>\n",
                            "      <td>48895.000000</td>\n",
                            "    </tr>\n",
                            "    <tr>\n",
                            "      <th>mean</th>\n",
                            "      <td>1.901714e+07</td>\n",
                            "      <td>6.762001e+07</td>\n",
                            "      <td>40.728949</td>\n",
                            "      <td>-73.952170</td>\n",
                            "      <td>152.720687</td>\n",
                            "      <td>7.029962</td>\n",
                            "      <td>23.274466</td>\n",
                            "      <td>1.090910</td>\n",
                            "      <td>7.143982</td>\n",
                            "      <td>112.781327</td>\n",
                            "    </tr>\n",
                            "    <tr>\n",
                            "      <th>std</th>\n",
                            "      <td>1.098311e+07</td>\n",
                            "      <td>7.861097e+07</td>\n",
                            "      <td>0.054530</td>\n",
                            "      <td>0.046157</td>\n",
                            "      <td>240.154170</td>\n",
                            "      <td>20.510550</td>\n",
                            "      <td>44.550582</td>\n",
                            "      <td>1.597283</td>\n",
                            "      <td>32.952519</td>\n",
                            "      <td>131.622289</td>\n",
                            "    </tr>\n",
                            "    <tr>\n",
                            "      <th>min</th>\n",
                            "      <td>2.539000e+03</td>\n",
                            "      <td>2.438000e+03</td>\n",
                            "      <td>40.499790</td>\n",
                            "      <td>-74.244420</td>\n",
                            "      <td>0.000000</td>\n",
                            "      <td>1.000000</td>\n",
                            "      <td>0.000000</td>\n",
                            "      <td>0.000000</td>\n",
                            "      <td>1.000000</td>\n",
                            "      <td>0.000000</td>\n",
                            "    </tr>\n",
                            "    <tr>\n",
                            "      <th>25%</th>\n",
                            "      <td>9.471945e+06</td>\n",
                            "      <td>7.822033e+06</td>\n",
                            "      <td>40.690100</td>\n",
                            "      <td>-73.983070</td>\n",
                            "      <td>69.000000</td>\n",
                            "      <td>1.000000</td>\n",
                            "      <td>1.000000</td>\n",
                            "      <td>0.040000</td>\n",
                            "      <td>1.000000</td>\n",
                            "      <td>0.000000</td>\n",
                            "    </tr>\n",
                            "    <tr>\n",
                            "      <th>50%</th>\n",
                            "      <td>1.967728e+07</td>\n",
                            "      <td>3.079382e+07</td>\n",
                            "      <td>40.723070</td>\n",
                            "      <td>-73.955680</td>\n",
                            "      <td>106.000000</td>\n",
                            "      <td>3.000000</td>\n",
                            "      <td>5.000000</td>\n",
                            "      <td>0.370000</td>\n",
                            "      <td>1.000000</td>\n",
                            "      <td>45.000000</td>\n",
                            "    </tr>\n",
                            "    <tr>\n",
                            "      <th>75%</th>\n",
                            "      <td>2.915218e+07</td>\n",
                            "      <td>1.074344e+08</td>\n",
                            "      <td>40.763115</td>\n",
                            "      <td>-73.936275</td>\n",
                            "      <td>175.000000</td>\n",
                            "      <td>5.000000</td>\n",
                            "      <td>24.000000</td>\n",
                            "      <td>1.580000</td>\n",
                            "      <td>2.000000</td>\n",
                            "      <td>227.000000</td>\n",
                            "    </tr>\n",
                            "    <tr>\n",
                            "      <th>max</th>\n",
                            "      <td>3.648724e+07</td>\n",
                            "      <td>2.743213e+08</td>\n",
                            "      <td>40.913060</td>\n",
                            "      <td>-73.712990</td>\n",
                            "      <td>10000.000000</td>\n",
                            "      <td>1250.000000</td>\n",
                            "      <td>629.000000</td>\n",
                            "      <td>58.500000</td>\n",
                            "      <td>327.000000</td>\n",
                            "      <td>365.000000</td>\n",
                            "    </tr>\n",
                            "  </tbody>\n",
                            "</table>\n",
                            "</div>"
                        ],
                        "text/plain": [
                            "                 id       host_id      latitude     longitude         price  \\\n",
                            "count  4.889500e+04  4.889500e+04  48895.000000  48895.000000  48895.000000   \n",
                            "mean   1.901714e+07  6.762001e+07     40.728949    -73.952170    152.720687   \n",
                            "std    1.098311e+07  7.861097e+07      0.054530      0.046157    240.154170   \n",
                            "min    2.539000e+03  2.438000e+03     40.499790    -74.244420      0.000000   \n",
                            "25%    9.471945e+06  7.822033e+06     40.690100    -73.983070     69.000000   \n",
                            "50%    1.967728e+07  3.079382e+07     40.723070    -73.955680    106.000000   \n",
                            "75%    2.915218e+07  1.074344e+08     40.763115    -73.936275    175.000000   \n",
                            "max    3.648724e+07  2.743213e+08     40.913060    -73.712990  10000.000000   \n",
                            "\n",
                            "       minimum_nights  number_of_reviews  reviews_per_month  \\\n",
                            "count    48895.000000       48895.000000       48895.000000   \n",
                            "mean         7.029962          23.274466           1.090910   \n",
                            "std         20.510550          44.550582           1.597283   \n",
                            "min          1.000000           0.000000           0.000000   \n",
                            "25%          1.000000           1.000000           0.040000   \n",
                            "50%          3.000000           5.000000           0.370000   \n",
                            "75%          5.000000          24.000000           1.580000   \n",
                            "max       1250.000000         629.000000          58.500000   \n",
                            "\n",
                            "       calculated_host_listings_count  availability_365  \n",
                            "count                    48895.000000      48895.000000  \n",
                            "mean                         7.143982        112.781327  \n",
                            "std                         32.952519        131.622289  \n",
                            "min                          1.000000          0.000000  \n",
                            "25%                          1.000000          0.000000  \n",
                            "50%                          1.000000         45.000000  \n",
                            "75%                          2.000000        227.000000  \n",
                            "max                        327.000000        365.000000  "
                        ]
                    },
                    "execution_count": 29,
                    "metadata": {},
                    "output_type": "execute_result"
                }
            ],
            "source": [
                "df.describe()"
            ]
        }
    ],
    "metadata": {
        "kernelspec": {
            "display_name": "Python 3.8.13 64-bit ('3.8.13')",
            "language": "python",
            "name": "python3"
        },
        "language_info": {
            "codemirror_mode": {
                "name": "ipython",
                "version": 3
            },
            "file_extension": ".py",
            "mimetype": "text/x-python",
            "name": "python",
            "nbconvert_exporter": "python",
            "pygments_lexer": "ipython3",
            "version": "3.11.1"
        },
        "orig_nbformat": 4,
        "vscode": {
            "interpreter": {
                "hash": "110cc1dee26208153f2972f08a2ad52b6a56238dc66d48e87fb757ef2996db56"
            }
        }
    },
    "nbformat": 4,
    "nbformat_minor": 2
}
